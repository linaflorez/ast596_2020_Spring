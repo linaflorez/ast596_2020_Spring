{
 "cells": [
  {
   "cell_type": "code",
   "execution_count": 1,
   "metadata": {
    "slideshow": {
     "slide_type": "skip"
    }
   },
   "outputs": [],
   "source": [
    "from notebook.services.config import ConfigManager\n",
    "cm = ConfigManager()\n",
    "cm.update('livereveal', {\n",
    "        'width': 1024,\n",
    "        'height': 768,\n",
    "        'scroll': True,\n",
    "})\n",
    "%config InlineBackend.figure_format = 'retina'\n",
    "%matplotlib inline\n",
    "plt.rcParams['figure.figsize'] = [10, 8]"
   ]
  },
  {
   "cell_type": "markdown",
   "metadata": {
    "slideshow": {
     "slide_type": "slide"
    }
   },
   "source": [
    "# Week 11, ASTR 596: Fundamentals of Data Science\n",
    "\n",
    "\n",
    "## Trees and Forests\n",
    "\n",
    "### Gautham Narayan \n",
    "##### <gsn@illinois.edu>"
   ]
  },
  {
   "cell_type": "markdown",
   "metadata": {
    "slideshow": {
     "slide_type": "slide"
    }
   },
   "source": [
    "## <center> Thoughts on FInal Group Project Policy? </center>\n",
    "    \n",
    "### HW8 today -  start working on this one earlier than the day before it's due."
   ]
  },
  {
   "cell_type": "markdown",
   "metadata": {
    "slideshow": {
     "slide_type": "slide"
    }
   },
   "source": [
    "## Recap\n",
    "\n",
    "### Terminology from last class\n",
    "- supervised vs unsupervised learning\n",
    "- features and samples\n",
    "- training vs test set\n",
    "- k-fold cross validation"
   ]
  },
  {
   "cell_type": "markdown",
   "metadata": {
    "slideshow": {
     "slide_type": "subslide"
    }
   },
   "source": [
    "<img src=\"ul_vs_sl5.png\">"
   ]
  },
  {
   "cell_type": "markdown",
   "metadata": {
    "slideshow": {
     "slide_type": "subslide"
    }
   },
   "source": [
    "<img src=\"ul_vs_sl6.png\">"
   ]
  },
  {
   "cell_type": "markdown",
   "metadata": {
    "slideshow": {
     "slide_type": "subslide"
    }
   },
   "source": [
    "<img src=\"ul_vs_sl7.png\">"
   ]
  },
  {
   "cell_type": "markdown",
   "metadata": {
    "slideshow": {
     "slide_type": "slide"
    }
   },
   "source": [
    "## Decision Tree Methods\n",
    "\n",
    "The hierarchical application of decision boundaries lead to decision trees\n",
    "\n",
    "Tree structure:\n",
    "\n",
    "- top node contains the entire data set\n",
    "- at each branch the data are subdivided into **two** child nodes (this is the decision)\n",
    "- split is based on a predefined decision boundary (usually axis aligned)\n",
    "- splitting repeats, recursively, until we reach a predefined stopping criteria"
   ]
  },
  {
   "cell_type": "markdown",
   "metadata": {
    "slideshow": {
     "slide_type": "subslide"
    }
   },
   "source": [
    "There is not one decision tree algorithm - several different versions.\n",
    "\n",
    "\n",
    "Broadly though, people use two algorithms:\n",
    "- Iterative Dichotomiser 3 (ID3)\n",
    "- Classification and Regression Trees (CART) \n",
    "ID3 is older and simpler, but straightforward to build your own implementation of so it still hangs on. Most actual research is with CART"
   ]
  },
  {
   "cell_type": "markdown",
   "metadata": {
    "slideshow": {
     "slide_type": "subslide"
    }
   },
   "source": [
    "Application of the tree to classification is simple (a series of binary decisions). \n",
    "\n",
    "The fraction of points from the training set classified as one class or the other defines the class associated with the decision."
   ]
  },
  {
   "cell_type": "markdown",
   "metadata": {
    "slideshow": {
     "slide_type": "slide"
    }
   },
   "source": [
    "## OK, so how to pick what decision to make? \n",
    "\n",
    "i.e. How do we choose the best attribute to divide the data set on\n",
    "\n",
    "You need a **metric** to measure how good your feature is at predicting the desired output\n",
    "\n",
    "`sklearn` gives you two options\n",
    "- Entropy\n",
    "    - and a related quantity, the Information Gain\n",
    "- Gini index\n",
    "\n",
    "We are performing top-down search through the space of possible decision trees, and optimizing this metric"
   ]
  },
  {
   "cell_type": "markdown",
   "metadata": {
    "slideshow": {
     "slide_type": "slide"
    }
   },
   "source": [
    "## Entropy:\n",
    "\n",
    "The entropy (we've seen this before):\n",
    "\\begin{equation}\n",
    "\\huge\n",
    "H(S)=\\sum_{i=1}^{c}-p_{i} \\log _{2} p_{i}\n",
    "\\end{equation}\n",
    "\n",
    "If you imagine a system with two states $S$ (+) and (-) then visually:\n",
    "\n",
    "<img src=\"entropy_twoclass.png\">\n",
    "\n",
    "States with low entropy having high *purity* - they're more homogenous \n",
    "\n",
    "If a state has an entropy that is greater than zero, you can keep trying to make decisions - i.e. split further\n",
    "\n"
   ]
  },
  {
   "cell_type": "code",
   "execution_count": 2,
   "metadata": {
    "slideshow": {
     "slide_type": "subslide"
    }
   },
   "outputs": [
    {
     "name": "stdout",
     "output_type": "stream",
     "text": [
      "Entropy for (0, 14): 0.00\n",
      "Entropy for (1, 13): 0.37\n",
      "Entropy for (2, 12): 0.59\n",
      "Entropy for (3, 11): 0.75\n",
      "Entropy for (4, 10): 0.86\n",
      "Entropy for (5, 9): 0.94\n",
      "Entropy for (6, 8): 0.99\n",
      "Entropy for (7, 7): 1.00\n"
     ]
    }
   ],
   "source": [
    "# You can compute the entropy with scipy pretty easily, but practically you won't have to do this manually\n",
    "import scipy.stats as st\n",
    "pick1 = np.arange(0, 8, 1)\n",
    "for p1 in pick1:\n",
    "    p2 = 14 - p1\n",
    "    print(f'Entropy for {p1, p2}: {st.entropy([p1,p2], base=2):.2f}')\n"
   ]
  },
  {
   "cell_type": "markdown",
   "metadata": {
    "slideshow": {
     "slide_type": "subslide"
    }
   },
   "source": [
    "And the \n",
    "## Information gain:\n",
    "\n",
    "in terms of the Entropy\n",
    "\n",
    "\n",
    "\\begin{equation}\n",
    "\\huge\n",
    "I(\\text{parent}, \\text{child})=H(\\text{parent})-H(\\text{parent}|\\text{child})\n",
    "\\end{equation}\n",
    "\n",
    "The second term has two values since each parent node in the decision tree has two children - weight by fraction of the population at each child (default - there are other weighting schemes).\n",
    "\n",
    "\n",
    "You can measure the entropy with a log of any base, but 2 is conventional because in that case, the entropy is in units of *binary digits* or **bits.** \n",
    "\n",
    "This can be directly interpreted in the information processing sense as the number of bits required to represent the event. \n",
    "\n",
    "This quantity is also often called the **Kullback Leibler divergence** or just **KL divergence**"
   ]
  },
  {
   "cell_type": "markdown",
   "metadata": {
    "slideshow": {
     "slide_type": "slide"
    }
   },
   "source": [
    "\\begin{equation}\n",
    "\\huge\n",
    "I(\\text{parent}, \\text{child})=H(\\text{parent})-H(\\text{parent}|\\text{child})\n",
    "\\end{equation}\n",
    "\n",
    "# <center> This is a distance </center>\n",
    "\n",
    "This is really what we are specifying with all ML algorithms\n",
    "\n",
    "Note the difference with what we did earlier\n",
    "* with parameteric methods, you defined the model in terms of parameters you knew were interesting\n",
    "    * and wrote down a likelihood which is a distance between your model and some of the observations (a training set)"
   ]
  },
  {
   "cell_type": "markdown",
   "metadata": {
    "slideshow": {
     "slide_type": "subslide"
    }
   },
   "source": [
    "* With non-parametric methods, you didn't define a model, but you did define some basis (sines or Gaussians but many other options) \n",
    "    * expressed in terms of the variable you decided were interesting (time/position/whatever)\n",
    "        * and wrote down a form for the correlation between different values of that variable - the kernel\n",
    "            * you held out some of your observations as a training set \n",
    "                * which let you compute a covariance matrix given your kernel \n",
    "                    * which let you write down a likelihood which is a distance between the conditioned model and the training set"
   ]
  },
  {
   "cell_type": "markdown",
   "metadata": {
    "slideshow": {
     "slide_type": "subslide"
    }
   },
   "source": [
    "* Now you aren't even defining what the variables in the model are, but you are defining a measure of importance that can be used to weight each state in your model\n",
    "    * and a form for the distance between two states in terms of infromation that is gained or loss - a **loss function**\n",
    "        * and you hold out some of your observations as a training set\n",
    "            * and minimize the loss function to condition the model\n",
    "                * which in supervised learning is reducing the entropy at each node \n",
    "                    (i.e. making decisions such that the output is a more homogenous subset)\n",
    "                    "
   ]
  },
  {
   "cell_type": "markdown",
   "metadata": {
    "slideshow": {
     "slide_type": "slide"
    }
   },
   "source": [
    "## Gini Impurity\n",
    "\n",
    "1. Randomly pick a datapoint in our dataset\n",
    "2. Randomly classify it according to the class distribution in the dataset\n",
    "    (i.e. if you 6 red, 2 green, 3 blue things in some dataset with 11 samples, then (6/11, 2/11 and 3/11 respectively)\n",
    "    \n",
    "### What’s the probability we classify the datapoint (in)correctly? \n",
    "\n",
    "The answer to that question is the Gini (Im)purity.\n",
    "\n",
    "\\begin{equation}\n",
    "\\huge\n",
    "G(S)=\\sum_{i=1}^{C} p(i) \\cdot(1-p(i))\n",
    "\\end{equation}"
   ]
  },
  {
   "cell_type": "markdown",
   "metadata": {
    "slideshow": {
     "slide_type": "subslide"
    }
   },
   "source": [
    "And the Gini gain\n",
    "\n",
    "\\begin{equation}\n",
    "\\huge\n",
    "I(\\text{parent}, \\text{child})=G(\\text{parent})-G(\\text{parent}|\\text{child})\n",
    "\\end{equation}\n",
    "\n",
    "Yup. This is a distance.\n"
   ]
  },
  {
   "cell_type": "markdown",
   "metadata": {
    "slideshow": {
     "slide_type": "slide"
    }
   },
   "source": [
    "## In-class exercise \n",
    "\n",
    "#### Look at the table below and pick the feature that is best to split on first\n",
    "\n",
    "#### Remember that you only get to make a binary split (i.e. mild or not mild)"
   ]
  },
  {
   "cell_type": "code",
   "execution_count": 3,
   "metadata": {
    "slideshow": {
     "slide_type": "fragment"
    }
   },
   "outputs": [
    {
     "data": {
      "text/html": [
       "<i>Table length=14</i>\n",
       "<table id=\"table112247614544\" class=\"table-striped table-bordered table-condensed\">\n",
       "<thead><tr><th>outlook</th><th>temperature</th><th>humidity</th><th>windy</th><th>play</th></tr></thead>\n",
       "<thead><tr><th>str8</th><th>str4</th><th>str6</th><th>str5</th><th>str3</th></tr></thead>\n",
       "<tr><td>sunny</td><td>hot</td><td>high</td><td>FALSE</td><td>no</td></tr>\n",
       "<tr><td>sunny</td><td>hot</td><td>high</td><td>TRUE</td><td>no</td></tr>\n",
       "<tr><td>overcast</td><td>hot</td><td>high</td><td>FALSE</td><td>yes</td></tr>\n",
       "<tr><td>rainy</td><td>mild</td><td>high</td><td>FALSE</td><td>yes</td></tr>\n",
       "<tr><td>rainy</td><td>cool</td><td>normal</td><td>FALSE</td><td>yes</td></tr>\n",
       "<tr><td>rainy</td><td>cool</td><td>normal</td><td>TRUE</td><td>no</td></tr>\n",
       "<tr><td>overcast</td><td>cool</td><td>normal</td><td>TRUE</td><td>yes</td></tr>\n",
       "<tr><td>sunny</td><td>mild</td><td>high</td><td>FALSE</td><td>no</td></tr>\n",
       "<tr><td>sunny</td><td>cool</td><td>normal</td><td>FALSE</td><td>yes</td></tr>\n",
       "<tr><td>rainy</td><td>mild</td><td>normal</td><td>FALSE</td><td>yes</td></tr>\n",
       "<tr><td>sunny</td><td>mild</td><td>normal</td><td>TRUE</td><td>yes</td></tr>\n",
       "<tr><td>overcast</td><td>mild</td><td>high</td><td>TRUE</td><td>yes</td></tr>\n",
       "<tr><td>overcast</td><td>hot</td><td>normal</td><td>FALSE</td><td>yes</td></tr>\n",
       "<tr><td>rainy</td><td>mild</td><td>high</td><td>TRUE</td><td>no</td></tr>\n",
       "</table>"
      ],
      "text/plain": [
       "<Table length=14>\n",
       "outlook  temperature humidity windy play\n",
       "  str8       str4      str6    str5 str3\n",
       "-------- ----------- -------- ----- ----\n",
       "   sunny         hot     high FALSE   no\n",
       "   sunny         hot     high  TRUE   no\n",
       "overcast         hot     high FALSE  yes\n",
       "   rainy        mild     high FALSE  yes\n",
       "   rainy        cool   normal FALSE  yes\n",
       "   rainy        cool   normal  TRUE   no\n",
       "overcast        cool   normal  TRUE  yes\n",
       "   sunny        mild     high FALSE   no\n",
       "   sunny        cool   normal FALSE  yes\n",
       "   rainy        mild   normal FALSE  yes\n",
       "   sunny        mild   normal  TRUE  yes\n",
       "overcast        mild     high  TRUE  yes\n",
       "overcast         hot   normal FALSE  yes\n",
       "   rainy        mild     high  TRUE   no"
      ]
     },
     "execution_count": 3,
     "metadata": {},
     "output_type": "execute_result"
    }
   ],
   "source": [
    "# RUN THIS\n",
    "import astropy.table as at\n",
    "import graphviz \n",
    "weather = at.Table.read('weather_nominal.csv', format='ascii')\n",
    "weather"
   ]
  },
  {
   "cell_type": "markdown",
   "metadata": {
    "slideshow": {
     "slide_type": "slide"
    }
   },
   "source": [
    "# Implementing a Single Decision Tree"
   ]
  },
  {
   "cell_type": "code",
   "execution_count": 4,
   "metadata": {
    "slideshow": {
     "slide_type": "slide"
    }
   },
   "outputs": [
    {
     "data": {
      "text/html": [
       "<div>\n",
       "<style scoped>\n",
       "    .dataframe tbody tr th:only-of-type {\n",
       "        vertical-align: middle;\n",
       "    }\n",
       "\n",
       "    .dataframe tbody tr th {\n",
       "        vertical-align: top;\n",
       "    }\n",
       "\n",
       "    .dataframe thead th {\n",
       "        text-align: right;\n",
       "    }\n",
       "</style>\n",
       "<table border=\"1\" class=\"dataframe\">\n",
       "  <thead>\n",
       "    <tr style=\"text-align: right;\">\n",
       "      <th></th>\n",
       "      <th>outlook</th>\n",
       "      <th>temperature</th>\n",
       "      <th>humidity</th>\n",
       "      <th>windy</th>\n",
       "      <th>play</th>\n",
       "    </tr>\n",
       "  </thead>\n",
       "  <tbody>\n",
       "    <tr>\n",
       "      <th>0</th>\n",
       "      <td>2.0</td>\n",
       "      <td>1.0</td>\n",
       "      <td>0.0</td>\n",
       "      <td>0.0</td>\n",
       "      <td>0.0</td>\n",
       "    </tr>\n",
       "    <tr>\n",
       "      <th>1</th>\n",
       "      <td>2.0</td>\n",
       "      <td>1.0</td>\n",
       "      <td>0.0</td>\n",
       "      <td>1.0</td>\n",
       "      <td>0.0</td>\n",
       "    </tr>\n",
       "    <tr>\n",
       "      <th>2</th>\n",
       "      <td>0.0</td>\n",
       "      <td>1.0</td>\n",
       "      <td>0.0</td>\n",
       "      <td>0.0</td>\n",
       "      <td>1.0</td>\n",
       "    </tr>\n",
       "    <tr>\n",
       "      <th>3</th>\n",
       "      <td>1.0</td>\n",
       "      <td>2.0</td>\n",
       "      <td>0.0</td>\n",
       "      <td>0.0</td>\n",
       "      <td>1.0</td>\n",
       "    </tr>\n",
       "    <tr>\n",
       "      <th>4</th>\n",
       "      <td>1.0</td>\n",
       "      <td>0.0</td>\n",
       "      <td>1.0</td>\n",
       "      <td>0.0</td>\n",
       "      <td>1.0</td>\n",
       "    </tr>\n",
       "    <tr>\n",
       "      <th>5</th>\n",
       "      <td>1.0</td>\n",
       "      <td>0.0</td>\n",
       "      <td>1.0</td>\n",
       "      <td>1.0</td>\n",
       "      <td>0.0</td>\n",
       "    </tr>\n",
       "    <tr>\n",
       "      <th>6</th>\n",
       "      <td>0.0</td>\n",
       "      <td>0.0</td>\n",
       "      <td>1.0</td>\n",
       "      <td>1.0</td>\n",
       "      <td>1.0</td>\n",
       "    </tr>\n",
       "    <tr>\n",
       "      <th>7</th>\n",
       "      <td>2.0</td>\n",
       "      <td>2.0</td>\n",
       "      <td>0.0</td>\n",
       "      <td>0.0</td>\n",
       "      <td>0.0</td>\n",
       "    </tr>\n",
       "    <tr>\n",
       "      <th>8</th>\n",
       "      <td>2.0</td>\n",
       "      <td>0.0</td>\n",
       "      <td>1.0</td>\n",
       "      <td>0.0</td>\n",
       "      <td>1.0</td>\n",
       "    </tr>\n",
       "    <tr>\n",
       "      <th>9</th>\n",
       "      <td>1.0</td>\n",
       "      <td>2.0</td>\n",
       "      <td>1.0</td>\n",
       "      <td>0.0</td>\n",
       "      <td>1.0</td>\n",
       "    </tr>\n",
       "    <tr>\n",
       "      <th>10</th>\n",
       "      <td>2.0</td>\n",
       "      <td>2.0</td>\n",
       "      <td>1.0</td>\n",
       "      <td>1.0</td>\n",
       "      <td>1.0</td>\n",
       "    </tr>\n",
       "    <tr>\n",
       "      <th>11</th>\n",
       "      <td>0.0</td>\n",
       "      <td>2.0</td>\n",
       "      <td>0.0</td>\n",
       "      <td>1.0</td>\n",
       "      <td>1.0</td>\n",
       "    </tr>\n",
       "    <tr>\n",
       "      <th>12</th>\n",
       "      <td>0.0</td>\n",
       "      <td>1.0</td>\n",
       "      <td>1.0</td>\n",
       "      <td>0.0</td>\n",
       "      <td>1.0</td>\n",
       "    </tr>\n",
       "    <tr>\n",
       "      <th>13</th>\n",
       "      <td>1.0</td>\n",
       "      <td>2.0</td>\n",
       "      <td>0.0</td>\n",
       "      <td>1.0</td>\n",
       "      <td>0.0</td>\n",
       "    </tr>\n",
       "  </tbody>\n",
       "</table>\n",
       "</div>"
      ],
      "text/plain": [
       "    outlook  temperature  humidity  windy  play\n",
       "0       2.0          1.0       0.0    0.0   0.0\n",
       "1       2.0          1.0       0.0    1.0   0.0\n",
       "2       0.0          1.0       0.0    0.0   1.0\n",
       "3       1.0          2.0       0.0    0.0   1.0\n",
       "4       1.0          0.0       1.0    0.0   1.0\n",
       "5       1.0          0.0       1.0    1.0   0.0\n",
       "6       0.0          0.0       1.0    1.0   1.0\n",
       "7       2.0          2.0       0.0    0.0   0.0\n",
       "8       2.0          0.0       1.0    0.0   1.0\n",
       "9       1.0          2.0       1.0    0.0   1.0\n",
       "10      2.0          2.0       1.0    1.0   1.0\n",
       "11      0.0          2.0       0.0    1.0   1.0\n",
       "12      0.0          1.0       1.0    0.0   1.0\n",
       "13      1.0          2.0       0.0    1.0   0.0"
      ]
     },
     "execution_count": 4,
     "metadata": {},
     "output_type": "execute_result"
    }
   ],
   "source": [
    "# RUN THIS\n",
    "\n",
    "from sklearn import preprocessing\n",
    "from sklearn.tree import DecisionTreeClassifier\n",
    "from sklearn import tree\n",
    "\n",
    "# convert the labels to numerical data\n",
    "cols = []\n",
    "new_weather = weather.copy()\n",
    "for i, feature in enumerate(weather.colnames):\n",
    "    le = preprocessing.LabelEncoder()\n",
    "    new_weather[feature] = le.fit_transform(weather[feature])*1.\n",
    "new_weather = new_weather.to_pandas()\n",
    "new_weather"
   ]
  },
  {
   "cell_type": "code",
   "execution_count": 5,
   "metadata": {
    "slideshow": {
     "slide_type": "subslide"
    }
   },
   "outputs": [
    {
     "data": {
      "image/svg+xml": [
       "<?xml version=\"1.0\" encoding=\"UTF-8\" standalone=\"no\"?>\n",
       "<!DOCTYPE svg PUBLIC \"-//W3C//DTD SVG 1.1//EN\"\n",
       " \"http://www.w3.org/Graphics/SVG/1.1/DTD/svg11.dtd\">\n",
       "<!-- Generated by graphviz version 2.40.1 (20161225.0304)\n",
       " -->\n",
       "<!-- Title: Tree Pages: 1 -->\n",
       "<svg width=\"287pt\" height=\"269pt\"\n",
       " viewBox=\"0.00 0.00 287.00 269.00\" xmlns=\"http://www.w3.org/2000/svg\" xmlns:xlink=\"http://www.w3.org/1999/xlink\">\n",
       "<g id=\"graph0\" class=\"graph\" transform=\"scale(1 1) rotate(0) translate(4 265)\">\n",
       "<title>Tree</title>\n",
       "<polygon fill=\"#ffffff\" stroke=\"transparent\" points=\"-4,4 -4,-265 283,-265 283,4 -4,4\"/>\n",
       "<!-- 0 -->\n",
       "<g id=\"node1\" class=\"node\">\n",
       "<title>0</title>\n",
       "<polygon fill=\"none\" stroke=\"#000000\" points=\"155,-261 55,-261 55,-193 155,-193 155,-261\"/>\n",
       "<text text-anchor=\"middle\" x=\"105\" y=\"-245.8\" font-family=\"Times,serif\" font-size=\"14.00\" fill=\"#000000\">outlook &lt;= 0.5</text>\n",
       "<text text-anchor=\"middle\" x=\"105\" y=\"-230.8\" font-family=\"Times,serif\" font-size=\"14.00\" fill=\"#000000\">entropy = 0.94</text>\n",
       "<text text-anchor=\"middle\" x=\"105\" y=\"-215.8\" font-family=\"Times,serif\" font-size=\"14.00\" fill=\"#000000\">samples = 14</text>\n",
       "<text text-anchor=\"middle\" x=\"105\" y=\"-200.8\" font-family=\"Times,serif\" font-size=\"14.00\" fill=\"#000000\">value = [9, 5]</text>\n",
       "</g>\n",
       "<!-- 1 -->\n",
       "<g id=\"node2\" class=\"node\">\n",
       "<title>1</title>\n",
       "<polygon fill=\"none\" stroke=\"#000000\" points=\"92,-149.5 0,-149.5 0,-96.5 92,-96.5 92,-149.5\"/>\n",
       "<text text-anchor=\"middle\" x=\"46\" y=\"-134.3\" font-family=\"Times,serif\" font-size=\"14.00\" fill=\"#000000\">entropy = 0.0</text>\n",
       "<text text-anchor=\"middle\" x=\"46\" y=\"-119.3\" font-family=\"Times,serif\" font-size=\"14.00\" fill=\"#000000\">samples = 4</text>\n",
       "<text text-anchor=\"middle\" x=\"46\" y=\"-104.3\" font-family=\"Times,serif\" font-size=\"14.00\" fill=\"#000000\">value = [4, 0]</text>\n",
       "</g>\n",
       "<!-- 0&#45;&gt;1 -->\n",
       "<g id=\"edge1\" class=\"edge\">\n",
       "<title>0&#45;&gt;1</title>\n",
       "<path fill=\"none\" stroke=\"#000000\" d=\"M85.6812,-192.9465C79.4324,-181.9316 72.4888,-169.6922 66.1793,-158.5703\"/>\n",
       "<polygon fill=\"#000000\" stroke=\"#000000\" points=\"69.0362,-156.513 61.0576,-149.5422 62.9477,-159.967 69.0362,-156.513\"/>\n",
       "<text text-anchor=\"middle\" x=\"54.4046\" y=\"-169.9407\" font-family=\"Times,serif\" font-size=\"14.00\" fill=\"#000000\">True</text>\n",
       "</g>\n",
       "<!-- 2 -->\n",
       "<g id=\"node3\" class=\"node\">\n",
       "<title>2</title>\n",
       "<polygon fill=\"none\" stroke=\"#000000\" points=\"217.5,-157 110.5,-157 110.5,-89 217.5,-89 217.5,-157\"/>\n",
       "<text text-anchor=\"middle\" x=\"164\" y=\"-141.8\" font-family=\"Times,serif\" font-size=\"14.00\" fill=\"#000000\">humidity &lt;= 0.5</text>\n",
       "<text text-anchor=\"middle\" x=\"164\" y=\"-126.8\" font-family=\"Times,serif\" font-size=\"14.00\" fill=\"#000000\">entropy = 1.0</text>\n",
       "<text text-anchor=\"middle\" x=\"164\" y=\"-111.8\" font-family=\"Times,serif\" font-size=\"14.00\" fill=\"#000000\">samples = 10</text>\n",
       "<text text-anchor=\"middle\" x=\"164\" y=\"-96.8\" font-family=\"Times,serif\" font-size=\"14.00\" fill=\"#000000\">value = [5, 5]</text>\n",
       "</g>\n",
       "<!-- 0&#45;&gt;2 -->\n",
       "<g id=\"edge2\" class=\"edge\">\n",
       "<title>0&#45;&gt;2</title>\n",
       "<path fill=\"none\" stroke=\"#000000\" d=\"M124.3188,-192.9465C129.2087,-184.3271 134.5239,-174.9579 139.6278,-165.9611\"/>\n",
       "<polygon fill=\"#000000\" stroke=\"#000000\" points=\"142.7476,-167.5549 144.6378,-157.13 136.6592,-164.1008 142.7476,-167.5549\"/>\n",
       "<text text-anchor=\"middle\" x=\"151.2908\" y=\"-177.5285\" font-family=\"Times,serif\" font-size=\"14.00\" fill=\"#000000\">False</text>\n",
       "</g>\n",
       "<!-- 3 -->\n",
       "<g id=\"node4\" class=\"node\">\n",
       "<title>3</title>\n",
       "<polygon fill=\"none\" stroke=\"#000000\" points=\"155,-53 49,-53 49,0 155,0 155,-53\"/>\n",
       "<text text-anchor=\"middle\" x=\"102\" y=\"-37.8\" font-family=\"Times,serif\" font-size=\"14.00\" fill=\"#000000\">entropy = 0.722</text>\n",
       "<text text-anchor=\"middle\" x=\"102\" y=\"-22.8\" font-family=\"Times,serif\" font-size=\"14.00\" fill=\"#000000\">samples = 5</text>\n",
       "<text text-anchor=\"middle\" x=\"102\" y=\"-7.8\" font-family=\"Times,serif\" font-size=\"14.00\" fill=\"#000000\">value = [1, 4]</text>\n",
       "</g>\n",
       "<!-- 2&#45;&gt;3 -->\n",
       "<g id=\"edge3\" class=\"edge\">\n",
       "<title>2&#45;&gt;3</title>\n",
       "<path fill=\"none\" stroke=\"#000000\" d=\"M142.1411,-88.9777C136.4932,-80.187 130.4007,-70.7044 124.7104,-61.8477\"/>\n",
       "<polygon fill=\"#000000\" stroke=\"#000000\" points=\"127.5356,-59.7698 119.1856,-53.2485 121.6463,-63.5536 127.5356,-59.7698\"/>\n",
       "</g>\n",
       "<!-- 4 -->\n",
       "<g id=\"node5\" class=\"node\">\n",
       "<title>4</title>\n",
       "<polygon fill=\"none\" stroke=\"#000000\" points=\"279,-53 173,-53 173,0 279,0 279,-53\"/>\n",
       "<text text-anchor=\"middle\" x=\"226\" y=\"-37.8\" font-family=\"Times,serif\" font-size=\"14.00\" fill=\"#000000\">entropy = 0.722</text>\n",
       "<text text-anchor=\"middle\" x=\"226\" y=\"-22.8\" font-family=\"Times,serif\" font-size=\"14.00\" fill=\"#000000\">samples = 5</text>\n",
       "<text text-anchor=\"middle\" x=\"226\" y=\"-7.8\" font-family=\"Times,serif\" font-size=\"14.00\" fill=\"#000000\">value = [4, 1]</text>\n",
       "</g>\n",
       "<!-- 2&#45;&gt;4 -->\n",
       "<g id=\"edge4\" class=\"edge\">\n",
       "<title>2&#45;&gt;4</title>\n",
       "<path fill=\"none\" stroke=\"#000000\" d=\"M185.8589,-88.9777C191.5068,-80.187 197.5993,-70.7044 203.2896,-61.8477\"/>\n",
       "<polygon fill=\"#000000\" stroke=\"#000000\" points=\"206.3537,-63.5536 208.8144,-53.2485 200.4644,-59.7698 206.3537,-63.5536\"/>\n",
       "</g>\n",
       "</g>\n",
       "</svg>\n"
      ],
      "text/plain": [
       "<graphviz.files.Source at 0x1a24d27dd0>"
      ]
     },
     "execution_count": 5,
     "metadata": {},
     "output_type": "execute_result"
    }
   ],
   "source": [
    "# get the training features and target\n",
    "X_train = new_weather[weather.colnames[0:4]]\n",
    "Y_train = 1.-new_weather['play']\n",
    "\n",
    "# TWO LINES OF CODE TO IMPLEMENT A DECISION TREE\n",
    "\n",
    "# build the decision tree\n",
    "clf = DecisionTreeClassifier(max_depth = 2, criterion='entropy')\n",
    "\n",
    "# Step 3: Train the model on the data\n",
    "clf.fit(X_train, Y_train)\n",
    "\n",
    "# Plot the Tree\n",
    "dot_data = tree.export_graphviz(clf, feature_names= weather.colnames[0:4], out_file=None) \n",
    "graph = graphviz.Source(dot_data)\n",
    "graph"
   ]
  },
  {
   "cell_type": "markdown",
   "metadata": {
    "slideshow": {
     "slide_type": "subslide"
    }
   },
   "source": [
    "Decision trees are simple to interpret (a set of questions).\n",
    "\n",
    "[This structure is called a Dendrogram](https://en.wikipedia.org/wiki/Dendrogram)\n",
    "\n",
    "<img src=\"tree_components.png\">"
   ]
  },
  {
   "cell_type": "markdown",
   "metadata": {
    "slideshow": {
     "slide_type": "subslide"
    }
   },
   "source": [
    "Remember the bias-variance tradeoff?\n",
    "<img src=\"overfitting_underfitting_cartoon.png\">"
   ]
  },
  {
   "cell_type": "markdown",
   "metadata": {
    "slideshow": {
     "slide_type": "subslide"
    }
   },
   "source": [
    "# There's not a lot you can do with a tree structure:\n",
    "<img src=\"tree_depth.png\">"
   ]
  },
  {
   "cell_type": "markdown",
   "metadata": {
    "slideshow": {
     "slide_type": "subslide"
    }
   },
   "source": [
    "## Limiting Model Complexity\n",
    "<img src=\"tree_limit.png\">"
   ]
  },
  {
   "cell_type": "markdown",
   "metadata": {
    "slideshow": {
     "slide_type": "subslide"
    }
   },
   "source": [
    "## Pruning - getting rid of leaves that don't have large information/gini gain\n",
    "<img src=\"tree_pruning.png\">"
   ]
  },
  {
   "cell_type": "markdown",
   "metadata": {
    "slideshow": {
     "slide_type": "slide"
    }
   },
   "source": [
    "# In-class exercise: Predicting Survival from the Titanic Sinking\n",
    "\n",
    "This is the \"Hello World\" of Kaggle challenges.\n",
    "\n",
    "<img src=\"titanic-sinking-hoyt.jpg\">\n",
    "\n",
    "We'll read in the file `titanic_train.csv`"
   ]
  },
  {
   "cell_type": "markdown",
   "metadata": {
    "slideshow": {
     "slide_type": "subslide"
    }
   },
   "source": [
    "Here's a description of the columns\n",
    "<img src=\"titanic_data.png\">\n",
    "\n",
    "Pick columns (i.e. features) that you think might have an impact on survival\n",
    "\n",
    "**CAUTION**: Some of these features may be missing for some samples - i.e. there is missing data for some people - if you use astropy (> 4.0) it will construct a table with masked columns. If you use an older astropy or pandas, this is your problem. Irrespective, drop samples with NaN values. There should be 714 passengers after that. "
   ]
  },
  {
   "cell_type": "markdown",
   "metadata": {
    "slideshow": {
     "slide_type": "subslide"
    }
   },
   "source": [
    "# BUILD A DECISION TREE AND TELL ME WHAT VARIABLES ARE IMPORTANT "
   ]
  },
  {
   "cell_type": "code",
   "execution_count": 6,
   "metadata": {
    "slideshow": {
     "slide_type": "slide"
    }
   },
   "outputs": [],
   "source": [
    "# RUN THIS\n",
    "\n",
    "%matplotlib inline\n",
    "from astropy.visualization import hist\n",
    "import sklearn\n",
    "from sklearn import metrics"
   ]
  },
  {
   "cell_type": "code",
   "execution_count": 7,
   "metadata": {},
   "outputs": [
    {
     "data": {
      "text/html": [
       "<i>Table length=714</i>\n",
       "<table id=\"table112288061456\" class=\"table-striped table-bordered table-condensed\">\n",
       "<thead><tr><th>PassengerId</th><th>Survived</th><th>Pclass</th><th>Name</th><th>Sex</th><th>Age</th><th>SibSp</th><th>Parch</th><th>Ticket</th><th>Fare</th><th>Cabin</th><th>Embarked</th></tr></thead>\n",
       "<thead><tr><th>int64</th><th>int64</th><th>int64</th><th>str82</th><th>str6</th><th>float64</th><th>int64</th><th>int64</th><th>str18</th><th>float64</th><th>str15</th><th>str1</th></tr></thead>\n",
       "<tr><td>1</td><td>0</td><td>3</td><td>Braund, Mr. Owen Harris</td><td>male</td><td>22.0</td><td>1</td><td>0</td><td>A/5 21171</td><td>7.25</td><td>--</td><td>S</td></tr>\n",
       "<tr><td>2</td><td>1</td><td>1</td><td>Cumings, Mrs. John Bradley (Florence Briggs Thayer)</td><td>female</td><td>38.0</td><td>1</td><td>0</td><td>PC 17599</td><td>71.2833</td><td>C85</td><td>C</td></tr>\n",
       "<tr><td>3</td><td>1</td><td>3</td><td>Heikkinen, Miss. Laina</td><td>female</td><td>26.0</td><td>0</td><td>0</td><td>STON/O2. 3101282</td><td>7.925</td><td>--</td><td>S</td></tr>\n",
       "<tr><td>4</td><td>1</td><td>1</td><td>Futrelle, Mrs. Jacques Heath (Lily May Peel)</td><td>female</td><td>35.0</td><td>1</td><td>0</td><td>113803</td><td>53.1</td><td>C123</td><td>S</td></tr>\n",
       "<tr><td>5</td><td>0</td><td>3</td><td>Allen, Mr. William Henry</td><td>male</td><td>35.0</td><td>0</td><td>0</td><td>373450</td><td>8.05</td><td>--</td><td>S</td></tr>\n",
       "<tr><td>7</td><td>0</td><td>1</td><td>McCarthy, Mr. Timothy J</td><td>male</td><td>54.0</td><td>0</td><td>0</td><td>17463</td><td>51.8625</td><td>E46</td><td>S</td></tr>\n",
       "<tr><td>8</td><td>0</td><td>3</td><td>Palsson, Master. Gosta Leonard</td><td>male</td><td>2.0</td><td>3</td><td>1</td><td>349909</td><td>21.075</td><td>--</td><td>S</td></tr>\n",
       "<tr><td>9</td><td>1</td><td>3</td><td>Johnson, Mrs. Oscar W (Elisabeth Vilhelmina Berg)</td><td>female</td><td>27.0</td><td>0</td><td>2</td><td>347742</td><td>11.1333</td><td>--</td><td>S</td></tr>\n",
       "<tr><td>10</td><td>1</td><td>2</td><td>Nasser, Mrs. Nicholas (Adele Achem)</td><td>female</td><td>14.0</td><td>1</td><td>0</td><td>237736</td><td>30.0708</td><td>--</td><td>C</td></tr>\n",
       "<tr><td>11</td><td>1</td><td>3</td><td>Sandstrom, Miss. Marguerite Rut</td><td>female</td><td>4.0</td><td>1</td><td>1</td><td>PP 9549</td><td>16.7</td><td>G6</td><td>S</td></tr>\n",
       "<tr><td>...</td><td>...</td><td>...</td><td>...</td><td>...</td><td>...</td><td>...</td><td>...</td><td>...</td><td>...</td><td>...</td><td>...</td></tr>\n",
       "<tr><td>881</td><td>1</td><td>2</td><td>Shelley, Mrs. William (Imanita Parrish Hall)</td><td>female</td><td>25.0</td><td>0</td><td>1</td><td>230433</td><td>26.0</td><td>--</td><td>S</td></tr>\n",
       "<tr><td>882</td><td>0</td><td>3</td><td>Markun, Mr. Johann</td><td>male</td><td>33.0</td><td>0</td><td>0</td><td>349257</td><td>7.8958</td><td>--</td><td>S</td></tr>\n",
       "<tr><td>883</td><td>0</td><td>3</td><td>Dahlberg, Miss. Gerda Ulrika</td><td>female</td><td>22.0</td><td>0</td><td>0</td><td>7552</td><td>10.5167</td><td>--</td><td>S</td></tr>\n",
       "<tr><td>884</td><td>0</td><td>2</td><td>Banfield, Mr. Frederick James</td><td>male</td><td>28.0</td><td>0</td><td>0</td><td>C.A./SOTON 34068</td><td>10.5</td><td>--</td><td>S</td></tr>\n",
       "<tr><td>885</td><td>0</td><td>3</td><td>Sutehall, Mr. Henry Jr</td><td>male</td><td>25.0</td><td>0</td><td>0</td><td>SOTON/OQ 392076</td><td>7.05</td><td>--</td><td>S</td></tr>\n",
       "<tr><td>886</td><td>0</td><td>3</td><td>Rice, Mrs. William (Margaret Norton)</td><td>female</td><td>39.0</td><td>0</td><td>5</td><td>382652</td><td>29.125</td><td>--</td><td>Q</td></tr>\n",
       "<tr><td>887</td><td>0</td><td>2</td><td>Montvila, Rev. Juozas</td><td>male</td><td>27.0</td><td>0</td><td>0</td><td>211536</td><td>13.0</td><td>--</td><td>S</td></tr>\n",
       "<tr><td>888</td><td>1</td><td>1</td><td>Graham, Miss. Margaret Edith</td><td>female</td><td>19.0</td><td>0</td><td>0</td><td>112053</td><td>30.0</td><td>B42</td><td>S</td></tr>\n",
       "<tr><td>890</td><td>1</td><td>1</td><td>Behr, Mr. Karl Howell</td><td>male</td><td>26.0</td><td>0</td><td>0</td><td>111369</td><td>30.0</td><td>C148</td><td>C</td></tr>\n",
       "<tr><td>891</td><td>0</td><td>3</td><td>Dooley, Mr. Patrick</td><td>male</td><td>32.0</td><td>0</td><td>0</td><td>370376</td><td>7.75</td><td>--</td><td>Q</td></tr>\n",
       "</table>"
      ],
      "text/plain": [
       "<Table length=714>\n",
       "PassengerId Survived Pclass ...   Fare  Cabin Embarked\n",
       "   int64     int64   int64  ... float64 str15   str1  \n",
       "----------- -------- ------ ... ------- ----- --------\n",
       "          1        0      3 ...    7.25    --        S\n",
       "          2        1      1 ... 71.2833   C85        C\n",
       "          3        1      3 ...   7.925    --        S\n",
       "          4        1      1 ...    53.1  C123        S\n",
       "          5        0      3 ...    8.05    --        S\n",
       "          7        0      1 ... 51.8625   E46        S\n",
       "          8        0      3 ...  21.075    --        S\n",
       "          9        1      3 ... 11.1333    --        S\n",
       "         10        1      2 ... 30.0708    --        C\n",
       "         11        1      3 ...    16.7    G6        S\n",
       "        ...      ...    ... ...     ...   ...      ...\n",
       "        881        1      2 ...    26.0    --        S\n",
       "        882        0      3 ...  7.8958    --        S\n",
       "        883        0      3 ... 10.5167    --        S\n",
       "        884        0      2 ...    10.5    --        S\n",
       "        885        0      3 ...    7.05    --        S\n",
       "        886        0      3 ...  29.125    --        Q\n",
       "        887        0      2 ...    13.0    --        S\n",
       "        888        1      1 ...    30.0   B42        S\n",
       "        890        1      1 ...    30.0  C148        C\n",
       "        891        0      3 ...    7.75    --        Q"
      ]
     },
     "execution_count": 7,
     "metadata": {},
     "output_type": "execute_result"
    }
   ],
   "source": [
    "# RUN THIS\n",
    "\n",
    "# Read in the data\n",
    "train = at.Table.read('titanic_train.csv', format='ascii')\n",
    "\n",
    "# mask out rows that are NaNs\n",
    "train = train[~train['Age'].mask]\n",
    "\n",
    "# Look at the data\n",
    "train"
   ]
  },
  {
   "cell_type": "code",
   "execution_count": 8,
   "metadata": {
    "slideshow": {
     "slide_type": "slide"
    }
   },
   "outputs": [],
   "source": [
    "# YOUR CODE HERE\n",
    "X_train = train['Pclass', 'Sex', 'Age']\n",
    "X_train['Pclass'] = np.array(X_train['Pclass']).astype('f8')\n",
    "X_train['Sex'] = [1. if s =='female' else 0. for s in train['Sex']]\n",
    "\n",
    "Y_train = np.array(train['Survived']).astype('f8')\n",
    "X_train = X_train.to_pandas()\n"
   ]
  },
  {
   "cell_type": "code",
   "execution_count": 9,
   "metadata": {
    "slideshow": {
     "slide_type": "slide"
    }
   },
   "outputs": [
    {
     "data": {
      "image/svg+xml": [
       "<?xml version=\"1.0\" encoding=\"UTF-8\" standalone=\"no\"?>\n",
       "<!DOCTYPE svg PUBLIC \"-//W3C//DTD SVG 1.1//EN\"\n",
       " \"http://www.w3.org/Graphics/SVG/1.1/DTD/svg11.dtd\">\n",
       "<!-- Generated by graphviz version 2.40.1 (20161225.0304)\n",
       " -->\n",
       "<!-- Title: Tree Pages: 1 -->\n",
       "<svg width=\"976pt\" height=\"373pt\"\n",
       " viewBox=\"0.00 0.00 976.00 373.00\" xmlns=\"http://www.w3.org/2000/svg\" xmlns:xlink=\"http://www.w3.org/1999/xlink\">\n",
       "<g id=\"graph0\" class=\"graph\" transform=\"scale(1 1) rotate(0) translate(4 369)\">\n",
       "<title>Tree</title>\n",
       "<polygon fill=\"#ffffff\" stroke=\"transparent\" points=\"-4,4 -4,-369 972,-369 972,4 -4,4\"/>\n",
       "<!-- 0 -->\n",
       "<g id=\"node1\" class=\"node\">\n",
       "<title>0</title>\n",
       "<polygon fill=\"none\" stroke=\"#000000\" points=\"544,-365 424,-365 424,-297 544,-297 544,-365\"/>\n",
       "<text text-anchor=\"middle\" x=\"484\" y=\"-349.8\" font-family=\"Times,serif\" font-size=\"14.00\" fill=\"#000000\">Sex &lt;= 0.5</text>\n",
       "<text text-anchor=\"middle\" x=\"484\" y=\"-334.8\" font-family=\"Times,serif\" font-size=\"14.00\" fill=\"#000000\">entropy = 0.974</text>\n",
       "<text text-anchor=\"middle\" x=\"484\" y=\"-319.8\" font-family=\"Times,serif\" font-size=\"14.00\" fill=\"#000000\">samples = 714</text>\n",
       "<text text-anchor=\"middle\" x=\"484\" y=\"-304.8\" font-family=\"Times,serif\" font-size=\"14.00\" fill=\"#000000\">value = [424, 290]</text>\n",
       "</g>\n",
       "<!-- 1 -->\n",
       "<g id=\"node2\" class=\"node\">\n",
       "<title>1</title>\n",
       "<polygon fill=\"none\" stroke=\"#000000\" points=\"418.5,-261 305.5,-261 305.5,-193 418.5,-193 418.5,-261\"/>\n",
       "<text text-anchor=\"middle\" x=\"362\" y=\"-245.8\" font-family=\"Times,serif\" font-size=\"14.00\" fill=\"#000000\">Pclass &lt;= 1.5</text>\n",
       "<text text-anchor=\"middle\" x=\"362\" y=\"-230.8\" font-family=\"Times,serif\" font-size=\"14.00\" fill=\"#000000\">entropy = 0.732</text>\n",
       "<text text-anchor=\"middle\" x=\"362\" y=\"-215.8\" font-family=\"Times,serif\" font-size=\"14.00\" fill=\"#000000\">samples = 453</text>\n",
       "<text text-anchor=\"middle\" x=\"362\" y=\"-200.8\" font-family=\"Times,serif\" font-size=\"14.00\" fill=\"#000000\">value = [360, 93]</text>\n",
       "</g>\n",
       "<!-- 0&#45;&gt;1 -->\n",
       "<g id=\"edge1\" class=\"edge\">\n",
       "<title>0&#45;&gt;1</title>\n",
       "<path fill=\"none\" stroke=\"#000000\" d=\"M444.0526,-296.9465C433.0988,-287.6088 421.1127,-277.3911 409.768,-267.7203\"/>\n",
       "<polygon fill=\"#000000\" stroke=\"#000000\" points=\"411.9179,-264.9538 402.0371,-261.13 407.3767,-270.2809 411.9179,-264.9538\"/>\n",
       "<text text-anchor=\"middle\" x=\"404.022\" y=\"-282.3511\" font-family=\"Times,serif\" font-size=\"14.00\" fill=\"#000000\">True</text>\n",
       "</g>\n",
       "<!-- 8 -->\n",
       "<g id=\"node9\" class=\"node\">\n",
       "<title>8</title>\n",
       "<polygon fill=\"none\" stroke=\"#000000\" points=\"664.5,-261 551.5,-261 551.5,-193 664.5,-193 664.5,-261\"/>\n",
       "<text text-anchor=\"middle\" x=\"608\" y=\"-245.8\" font-family=\"Times,serif\" font-size=\"14.00\" fill=\"#000000\">Pclass &lt;= 2.5</text>\n",
       "<text text-anchor=\"middle\" x=\"608\" y=\"-230.8\" font-family=\"Times,serif\" font-size=\"14.00\" fill=\"#000000\">entropy = 0.804</text>\n",
       "<text text-anchor=\"middle\" x=\"608\" y=\"-215.8\" font-family=\"Times,serif\" font-size=\"14.00\" fill=\"#000000\">samples = 261</text>\n",
       "<text text-anchor=\"middle\" x=\"608\" y=\"-200.8\" font-family=\"Times,serif\" font-size=\"14.00\" fill=\"#000000\">value = [64, 197]</text>\n",
       "</g>\n",
       "<!-- 0&#45;&gt;8 -->\n",
       "<g id=\"edge8\" class=\"edge\">\n",
       "<title>0&#45;&gt;8</title>\n",
       "<path fill=\"none\" stroke=\"#000000\" d=\"M524.6022,-296.9465C535.7356,-287.6088 547.9183,-277.3911 559.4489,-267.7203\"/>\n",
       "<polygon fill=\"#000000\" stroke=\"#000000\" points=\"561.8938,-270.2378 567.3065,-261.13 557.3954,-264.8745 561.8938,-270.2378\"/>\n",
       "<text text-anchor=\"middle\" x=\"565.1219\" y=\"-282.3344\" font-family=\"Times,serif\" font-size=\"14.00\" fill=\"#000000\">False</text>\n",
       "</g>\n",
       "<!-- 2 -->\n",
       "<g id=\"node3\" class=\"node\">\n",
       "<title>2</title>\n",
       "<polygon fill=\"none\" stroke=\"#000000\" points=\"230,-157 124,-157 124,-89 230,-89 230,-157\"/>\n",
       "<text text-anchor=\"middle\" x=\"177\" y=\"-141.8\" font-family=\"Times,serif\" font-size=\"14.00\" fill=\"#000000\">Age &lt;= 53.0</text>\n",
       "<text text-anchor=\"middle\" x=\"177\" y=\"-126.8\" font-family=\"Times,serif\" font-size=\"14.00\" fill=\"#000000\">entropy = 0.969</text>\n",
       "<text text-anchor=\"middle\" x=\"177\" y=\"-111.8\" font-family=\"Times,serif\" font-size=\"14.00\" fill=\"#000000\">samples = 101</text>\n",
       "<text text-anchor=\"middle\" x=\"177\" y=\"-96.8\" font-family=\"Times,serif\" font-size=\"14.00\" fill=\"#000000\">value = [61, 40]</text>\n",
       "</g>\n",
       "<!-- 1&#45;&gt;2 -->\n",
       "<g id=\"edge2\" class=\"edge\">\n",
       "<title>1&#45;&gt;2</title>\n",
       "<path fill=\"none\" stroke=\"#000000\" d=\"M305.4887,-195.2315C284.3819,-183.3661 260.3134,-169.8357 238.758,-157.718\"/>\n",
       "<polygon fill=\"#000000\" stroke=\"#000000\" points=\"240.438,-154.6473 230.0058,-152.7979 237.0077,-160.7493 240.438,-154.6473\"/>\n",
       "</g>\n",
       "<!-- 5 -->\n",
       "<g id=\"node6\" class=\"node\">\n",
       "<title>5</title>\n",
       "<polygon fill=\"none\" stroke=\"#000000\" points=\"418.5,-157 305.5,-157 305.5,-89 418.5,-89 418.5,-157\"/>\n",
       "<text text-anchor=\"middle\" x=\"362\" y=\"-141.8\" font-family=\"Times,serif\" font-size=\"14.00\" fill=\"#000000\">Age &lt;= 9.5</text>\n",
       "<text text-anchor=\"middle\" x=\"362\" y=\"-126.8\" font-family=\"Times,serif\" font-size=\"14.00\" fill=\"#000000\">entropy = 0.611</text>\n",
       "<text text-anchor=\"middle\" x=\"362\" y=\"-111.8\" font-family=\"Times,serif\" font-size=\"14.00\" fill=\"#000000\">samples = 352</text>\n",
       "<text text-anchor=\"middle\" x=\"362\" y=\"-96.8\" font-family=\"Times,serif\" font-size=\"14.00\" fill=\"#000000\">value = [299, 53]</text>\n",
       "</g>\n",
       "<!-- 1&#45;&gt;5 -->\n",
       "<g id=\"edge5\" class=\"edge\">\n",
       "<title>1&#45;&gt;5</title>\n",
       "<path fill=\"none\" stroke=\"#000000\" d=\"M362,-192.9465C362,-184.776 362,-175.9318 362,-167.3697\"/>\n",
       "<polygon fill=\"#000000\" stroke=\"#000000\" points=\"365.5001,-167.13 362,-157.13 358.5001,-167.13 365.5001,-167.13\"/>\n",
       "</g>\n",
       "<!-- 3 -->\n",
       "<g id=\"node4\" class=\"node\">\n",
       "<title>3</title>\n",
       "<polygon fill=\"none\" stroke=\"#000000\" points=\"106,-53 0,-53 0,0 106,0 106,-53\"/>\n",
       "<text text-anchor=\"middle\" x=\"53\" y=\"-37.8\" font-family=\"Times,serif\" font-size=\"14.00\" fill=\"#000000\">entropy = 0.997</text>\n",
       "<text text-anchor=\"middle\" x=\"53\" y=\"-22.8\" font-family=\"Times,serif\" font-size=\"14.00\" fill=\"#000000\">samples = 79</text>\n",
       "<text text-anchor=\"middle\" x=\"53\" y=\"-7.8\" font-family=\"Times,serif\" font-size=\"14.00\" fill=\"#000000\">value = [42, 37]</text>\n",
       "</g>\n",
       "<!-- 2&#45;&gt;3 -->\n",
       "<g id=\"edge3\" class=\"edge\">\n",
       "<title>2&#45;&gt;3</title>\n",
       "<path fill=\"none\" stroke=\"#000000\" d=\"M133.2822,-88.9777C121.0451,-79.4545 107.7645,-69.1191 95.5934,-59.6473\"/>\n",
       "<polygon fill=\"#000000\" stroke=\"#000000\" points=\"97.4125,-56.628 87.3711,-53.2485 93.1134,-62.1523 97.4125,-56.628\"/>\n",
       "</g>\n",
       "<!-- 4 -->\n",
       "<g id=\"node5\" class=\"node\">\n",
       "<title>4</title>\n",
       "<polygon fill=\"none\" stroke=\"#000000\" points=\"230,-53 124,-53 124,0 230,0 230,-53\"/>\n",
       "<text text-anchor=\"middle\" x=\"177\" y=\"-37.8\" font-family=\"Times,serif\" font-size=\"14.00\" fill=\"#000000\">entropy = 0.575</text>\n",
       "<text text-anchor=\"middle\" x=\"177\" y=\"-22.8\" font-family=\"Times,serif\" font-size=\"14.00\" fill=\"#000000\">samples = 22</text>\n",
       "<text text-anchor=\"middle\" x=\"177\" y=\"-7.8\" font-family=\"Times,serif\" font-size=\"14.00\" fill=\"#000000\">value = [19, 3]</text>\n",
       "</g>\n",
       "<!-- 2&#45;&gt;4 -->\n",
       "<g id=\"edge4\" class=\"edge\">\n",
       "<title>2&#45;&gt;4</title>\n",
       "<path fill=\"none\" stroke=\"#000000\" d=\"M177,-88.9777C177,-80.7364 177,-71.887 177,-63.5153\"/>\n",
       "<polygon fill=\"#000000\" stroke=\"#000000\" points=\"180.5001,-63.2484 177,-53.2485 173.5001,-63.2485 180.5001,-63.2484\"/>\n",
       "</g>\n",
       "<!-- 6 -->\n",
       "<g id=\"node7\" class=\"node\">\n",
       "<title>6</title>\n",
       "<polygon fill=\"none\" stroke=\"#000000\" points=\"354,-53 248,-53 248,0 354,0 354,-53\"/>\n",
       "<text text-anchor=\"middle\" x=\"301\" y=\"-37.8\" font-family=\"Times,serif\" font-size=\"14.00\" fill=\"#000000\">entropy = 0.987</text>\n",
       "<text text-anchor=\"middle\" x=\"301\" y=\"-22.8\" font-family=\"Times,serif\" font-size=\"14.00\" fill=\"#000000\">samples = 30</text>\n",
       "<text text-anchor=\"middle\" x=\"301\" y=\"-7.8\" font-family=\"Times,serif\" font-size=\"14.00\" fill=\"#000000\">value = [13, 17]</text>\n",
       "</g>\n",
       "<!-- 5&#45;&gt;6 -->\n",
       "<g id=\"edge6\" class=\"edge\">\n",
       "<title>5&#45;&gt;6</title>\n",
       "<path fill=\"none\" stroke=\"#000000\" d=\"M340.4937,-88.9777C334.9369,-80.187 328.9427,-70.7044 323.3441,-61.8477\"/>\n",
       "<polygon fill=\"#000000\" stroke=\"#000000\" points=\"326.2101,-59.8312 317.9084,-53.2485 320.2931,-63.5714 326.2101,-59.8312\"/>\n",
       "</g>\n",
       "<!-- 7 -->\n",
       "<g id=\"node8\" class=\"node\">\n",
       "<title>7</title>\n",
       "<polygon fill=\"none\" stroke=\"#000000\" points=\"485.5,-53 372.5,-53 372.5,0 485.5,0 485.5,-53\"/>\n",
       "<text text-anchor=\"middle\" x=\"429\" y=\"-37.8\" font-family=\"Times,serif\" font-size=\"14.00\" fill=\"#000000\">entropy = 0.505</text>\n",
       "<text text-anchor=\"middle\" x=\"429\" y=\"-22.8\" font-family=\"Times,serif\" font-size=\"14.00\" fill=\"#000000\">samples = 322</text>\n",
       "<text text-anchor=\"middle\" x=\"429\" y=\"-7.8\" font-family=\"Times,serif\" font-size=\"14.00\" fill=\"#000000\">value = [286, 36]</text>\n",
       "</g>\n",
       "<!-- 5&#45;&gt;7 -->\n",
       "<g id=\"edge7\" class=\"edge\">\n",
       "<title>5&#45;&gt;7</title>\n",
       "<path fill=\"none\" stroke=\"#000000\" d=\"M385.6217,-88.9777C391.7887,-80.0954 398.4461,-70.5067 404.6501,-61.5711\"/>\n",
       "<polygon fill=\"#000000\" stroke=\"#000000\" points=\"407.6003,-63.4589 410.4285,-53.2485 401.8503,-59.4666 407.6003,-63.4589\"/>\n",
       "</g>\n",
       "<!-- 9 -->\n",
       "<g id=\"node10\" class=\"node\">\n",
       "<title>9</title>\n",
       "<polygon fill=\"none\" stroke=\"#000000\" points=\"661,-157 555,-157 555,-89 661,-89 661,-157\"/>\n",
       "<text text-anchor=\"middle\" x=\"608\" y=\"-141.8\" font-family=\"Times,serif\" font-size=\"14.00\" fill=\"#000000\">Age &lt;= 2.5</text>\n",
       "<text text-anchor=\"middle\" x=\"608\" y=\"-126.8\" font-family=\"Times,serif\" font-size=\"14.00\" fill=\"#000000\">entropy = 0.314</text>\n",
       "<text text-anchor=\"middle\" x=\"608\" y=\"-111.8\" font-family=\"Times,serif\" font-size=\"14.00\" fill=\"#000000\">samples = 159</text>\n",
       "<text text-anchor=\"middle\" x=\"608\" y=\"-96.8\" font-family=\"Times,serif\" font-size=\"14.00\" fill=\"#000000\">value = [9, 150]</text>\n",
       "</g>\n",
       "<!-- 8&#45;&gt;9 -->\n",
       "<g id=\"edge9\" class=\"edge\">\n",
       "<title>8&#45;&gt;9</title>\n",
       "<path fill=\"none\" stroke=\"#000000\" d=\"M608,-192.9465C608,-184.776 608,-175.9318 608,-167.3697\"/>\n",
       "<polygon fill=\"#000000\" stroke=\"#000000\" points=\"611.5001,-167.13 608,-157.13 604.5001,-167.13 611.5001,-167.13\"/>\n",
       "</g>\n",
       "<!-- 12 -->\n",
       "<g id=\"node13\" class=\"node\">\n",
       "<title>12</title>\n",
       "<polygon fill=\"none\" stroke=\"#000000\" points=\"844,-157 738,-157 738,-89 844,-89 844,-157\"/>\n",
       "<text text-anchor=\"middle\" x=\"791\" y=\"-141.8\" font-family=\"Times,serif\" font-size=\"14.00\" fill=\"#000000\">Age &lt;= 38.5</text>\n",
       "<text text-anchor=\"middle\" x=\"791\" y=\"-126.8\" font-family=\"Times,serif\" font-size=\"14.00\" fill=\"#000000\">entropy = 0.996</text>\n",
       "<text text-anchor=\"middle\" x=\"791\" y=\"-111.8\" font-family=\"Times,serif\" font-size=\"14.00\" fill=\"#000000\">samples = 102</text>\n",
       "<text text-anchor=\"middle\" x=\"791\" y=\"-96.8\" font-family=\"Times,serif\" font-size=\"14.00\" fill=\"#000000\">value = [55, 47]</text>\n",
       "</g>\n",
       "<!-- 8&#45;&gt;12 -->\n",
       "<g id=\"edge12\" class=\"edge\">\n",
       "<title>8&#45;&gt;12</title>\n",
       "<path fill=\"none\" stroke=\"#000000\" d=\"M664.8992,-194.6638C685.2803,-183.0811 708.3474,-169.972 729.1288,-158.1618\"/>\n",
       "<polygon fill=\"#000000\" stroke=\"#000000\" points=\"730.9159,-161.172 737.8806,-153.1881 727.4572,-155.0861 730.9159,-161.172\"/>\n",
       "</g>\n",
       "<!-- 10 -->\n",
       "<g id=\"node11\" class=\"node\">\n",
       "<title>10</title>\n",
       "<polygon fill=\"none\" stroke=\"#000000\" points=\"596,-53 504,-53 504,0 596,0 596,-53\"/>\n",
       "<text text-anchor=\"middle\" x=\"550\" y=\"-37.8\" font-family=\"Times,serif\" font-size=\"14.00\" fill=\"#000000\">entropy = 1.0</text>\n",
       "<text text-anchor=\"middle\" x=\"550\" y=\"-22.8\" font-family=\"Times,serif\" font-size=\"14.00\" fill=\"#000000\">samples = 2</text>\n",
       "<text text-anchor=\"middle\" x=\"550\" y=\"-7.8\" font-family=\"Times,serif\" font-size=\"14.00\" fill=\"#000000\">value = [1, 1]</text>\n",
       "</g>\n",
       "<!-- 9&#45;&gt;10 -->\n",
       "<g id=\"edge10\" class=\"edge\">\n",
       "<title>9&#45;&gt;10</title>\n",
       "<path fill=\"none\" stroke=\"#000000\" d=\"M587.5514,-88.9777C582.2678,-80.187 576.5684,-70.7044 571.2452,-61.8477\"/>\n",
       "<polygon fill=\"#000000\" stroke=\"#000000\" points=\"574.2282,-60.0165 566.0768,-53.2485 568.2285,-63.6225 574.2282,-60.0165\"/>\n",
       "</g>\n",
       "<!-- 11 -->\n",
       "<g id=\"node12\" class=\"node\">\n",
       "<title>11</title>\n",
       "<polygon fill=\"none\" stroke=\"#000000\" points=\"720,-53 614,-53 614,0 720,0 720,-53\"/>\n",
       "<text text-anchor=\"middle\" x=\"667\" y=\"-37.8\" font-family=\"Times,serif\" font-size=\"14.00\" fill=\"#000000\">entropy = 0.29</text>\n",
       "<text text-anchor=\"middle\" x=\"667\" y=\"-22.8\" font-family=\"Times,serif\" font-size=\"14.00\" fill=\"#000000\">samples = 157</text>\n",
       "<text text-anchor=\"middle\" x=\"667\" y=\"-7.8\" font-family=\"Times,serif\" font-size=\"14.00\" fill=\"#000000\">value = [8, 149]</text>\n",
       "</g>\n",
       "<!-- 9&#45;&gt;11 -->\n",
       "<g id=\"edge11\" class=\"edge\">\n",
       "<title>9&#45;&gt;11</title>\n",
       "<path fill=\"none\" stroke=\"#000000\" d=\"M628.8012,-88.9777C634.1758,-80.187 639.9735,-70.7044 645.3885,-61.8477\"/>\n",
       "<polygon fill=\"#000000\" stroke=\"#000000\" points=\"648.4158,-63.6059 650.646,-53.2485 642.4436,-59.9545 648.4158,-63.6059\"/>\n",
       "</g>\n",
       "<!-- 13 -->\n",
       "<g id=\"node14\" class=\"node\">\n",
       "<title>13</title>\n",
       "<polygon fill=\"none\" stroke=\"#000000\" points=\"844,-53 738,-53 738,0 844,0 844,-53\"/>\n",
       "<text text-anchor=\"middle\" x=\"791\" y=\"-37.8\" font-family=\"Times,serif\" font-size=\"14.00\" fill=\"#000000\">entropy = 1.0</text>\n",
       "<text text-anchor=\"middle\" x=\"791\" y=\"-22.8\" font-family=\"Times,serif\" font-size=\"14.00\" fill=\"#000000\">samples = 90</text>\n",
       "<text text-anchor=\"middle\" x=\"791\" y=\"-7.8\" font-family=\"Times,serif\" font-size=\"14.00\" fill=\"#000000\">value = [44, 46]</text>\n",
       "</g>\n",
       "<!-- 12&#45;&gt;13 -->\n",
       "<g id=\"edge13\" class=\"edge\">\n",
       "<title>12&#45;&gt;13</title>\n",
       "<path fill=\"none\" stroke=\"#000000\" d=\"M791,-88.9777C791,-80.7364 791,-71.887 791,-63.5153\"/>\n",
       "<polygon fill=\"#000000\" stroke=\"#000000\" points=\"794.5001,-63.2484 791,-53.2485 787.5001,-63.2485 794.5001,-63.2484\"/>\n",
       "</g>\n",
       "<!-- 14 -->\n",
       "<g id=\"node15\" class=\"node\">\n",
       "<title>14</title>\n",
       "<polygon fill=\"none\" stroke=\"#000000\" points=\"968,-53 862,-53 862,0 968,0 968,-53\"/>\n",
       "<text text-anchor=\"middle\" x=\"915\" y=\"-37.8\" font-family=\"Times,serif\" font-size=\"14.00\" fill=\"#000000\">entropy = 0.414</text>\n",
       "<text text-anchor=\"middle\" x=\"915\" y=\"-22.8\" font-family=\"Times,serif\" font-size=\"14.00\" fill=\"#000000\">samples = 12</text>\n",
       "<text text-anchor=\"middle\" x=\"915\" y=\"-7.8\" font-family=\"Times,serif\" font-size=\"14.00\" fill=\"#000000\">value = [11, 1]</text>\n",
       "</g>\n",
       "<!-- 12&#45;&gt;14 -->\n",
       "<g id=\"edge14\" class=\"edge\">\n",
       "<title>12&#45;&gt;14</title>\n",
       "<path fill=\"none\" stroke=\"#000000\" d=\"M834.7178,-88.9777C846.9549,-79.4545 860.2355,-69.1191 872.4066,-59.6473\"/>\n",
       "<polygon fill=\"#000000\" stroke=\"#000000\" points=\"874.8866,-62.1523 880.6289,-53.2485 870.5875,-56.628 874.8866,-62.1523\"/>\n",
       "</g>\n",
       "</g>\n",
       "</svg>\n"
      ],
      "text/plain": [
       "<graphviz.files.Source at 0x1a24d31a50>"
      ]
     },
     "execution_count": 9,
     "metadata": {},
     "output_type": "execute_result"
    }
   ],
   "source": [
    "\n",
    "# TWO LINES OF CODE TO IMPLEMENT A DECISION TREE\n",
    "\n",
    "# build the decision tree\n",
    "clf = DecisionTreeClassifier(max_depth = 3, criterion='entropy')\n",
    "\n",
    "# Step 3: Train the model on the data\n",
    "clf.fit(X_train, Y_train)\n",
    "\n",
    "# Plot the Tree\n",
    "dot_data = tree.export_graphviz(clf, feature_names= ['Pclass', 'Sex', 'Age'], out_file=None) \n",
    "graph = graphviz.Source(dot_data)\n",
    "graph"
   ]
  },
  {
   "cell_type": "markdown",
   "metadata": {
    "slideshow": {
     "slide_type": "slide"
    }
   },
   "source": [
    "## Regression with Trees: When the target variable is nominal \n",
    "\n",
    "<img src=\"tree_regression.png\">"
   ]
  },
  {
   "cell_type": "markdown",
   "metadata": {
    "slideshow": {
     "slide_type": "slide"
    }
   },
   "source": [
    "## But you say \n",
    "\n",
    "### AH BUT ENTROPY AND GINI IMPURITY ARE DEFINED AS MARGINALS OVER CATEGORICAL VARIABLES, WOE IS ME HOW COULD THESE DISTANCE METRICS EVER POSSIBLY WORK FOR VARIABLES THAT ARE CONTINUOUS \n",
    "\n",
    "(Well ok maybe you don't say exactly that, but this is what I say when the dog breaks my favorite coffee cup with my coffee still in it)\n"
   ]
  },
  {
   "cell_type": "markdown",
   "metadata": {
    "slideshow": {
     "slide_type": "slide"
    }
   },
   "source": [
    "<img src=\"tree_regression_metric.png\">\n",
    "\n",
    "Hello old friends."
   ]
  },
  {
   "cell_type": "markdown",
   "metadata": {
    "slideshow": {
     "slide_type": "slide"
    }
   },
   "source": [
    "## The big issues with trees\n",
    "\n",
    "* Variance - different trees lead to different results\n",
    "    - intuitively if you have just two continuous variables, then calculating the split for every node even with a depth = 2 tree is of order $\\infty^2$\n",
    "    \n",
    "You can view each tree as a single path that you can take do get the desired outcome.\n",
    "\n",
    "There are many possible paths, so we do the thing we always do and marginalize over them.\n",
    "\n",
    "In other words, go from a single decision tree to a many decision trees.\n"
   ]
  },
  {
   "cell_type": "markdown",
   "metadata": {
    "slideshow": {
     "slide_type": "slide"
    }
   },
   "source": [
    "## Ensemble Methods: Bagging\n",
    "\n",
    "Run multiple different models on the same data and learn from the ensemble\n",
    "\n",
    "We can improve the performance of decisions trees (especially when there are many features) by **bagging** (Bootstrap AGGregation). This averages the predictive results of a series of bootstrap samples.\n",
    "\n",
    "For a sample of $N$ points in a training set, bagging generates $K$ equally sized bootstrap samples from which to estimate the function $f_i(x)$. The final estimator, defined by bagging, is then\n",
    "\n",
    "\\begin{equation}\n",
    "\\huge\n",
    "f(x)=\\frac{1}{K} \\sum_{i}^{K} f_{i}(x)\n",
    "\\end{equation}\n",
    "\n",
    "\n",
    "(Yep, this is just take the average of all the individual methods)"
   ]
  },
  {
   "cell_type": "markdown",
   "metadata": {
    "slideshow": {
     "slide_type": "slide"
    }
   },
   "source": [
    "## Ensemble Methods: Boosting\n",
    "\n",
    "Boosting is an ensemble approach motivated by the idea that combining many weak classifiers can result in an improved classification. \n",
    "\n",
    "Boosting creates models to attempt to correct the errors of the ensemble so far \n",
    "**i.e. we reweight the data based on how incorrectly the data were classified in the previous iteration.**\n",
    "\n",
    "- if you have $N$ data points in your sample with features $x$, and target $y$\n",
    "\n",
    "\\begin{equation}\n",
    "\\large\n",
    "x_{i} \\in \\mathbb{R}^{d}, y_{i} \\in\\{-1,1\\}\n",
    "\\end{equation}\n",
    "**initalize the weights to $1/N$**\n",
    "\n",
    "- Run the classification $h$ (i.e. hypotheses) with a weak clasifier $t$ times and compute the weighted classification error for each classifier\n",
    "\n",
    "\\begin{equation}\n",
    "\\large\n",
    "\\epsilon = \\frac{\\sum_{i=1}^{N} w_{i} I\\left(y_{i} \\neq h_{j}\\left(x_{i}\\right)\\right)}{\\sum_{i=1}^{N} w_{i}}\n",
    "\\end{equation}\n",
    "\n",
    "where $I$ is the indicator variable (1 if $y_i$ matches the hypotheses, 0 if not)."
   ]
  },
  {
   "cell_type": "markdown",
   "metadata": {
    "slideshow": {
     "slide_type": "subslide"
    }
   },
   "source": [
    "- The weight for each weak classifier is related to the weighted classification error\n",
    "\n",
    "\\begin{equation}\n",
    "\\large\n",
    "\\theta_{t}=\\frac{1}{2} \\ln \\left(\\frac{1-\\epsilon_{t}}{\\epsilon_{t}}\\right)\n",
    "\\end{equation}\n",
    "\n",
    "- each time reweight each sample $i$ based on the previous performance of the classifier $t$\n",
    "\n",
    "For any classifier with accuracy higher than 50%, the weight is positive. \n",
    "The more accurate the classifier, the larger the weight.\n",
    "For a classifer with less than 50% accuracy, the weight is negative."
   ]
  },
  {
   "cell_type": "markdown",
   "metadata": {
    "slideshow": {
     "slide_type": "subslide"
    }
   },
   "source": [
    "\\begin{equation}\n",
    "\\large\n",
    "w_{t+1}=\\frac{w_{t} \\exp \\left[-\\theta_{t} y_{i} h_{t} \\right]}{Z_{t}}\n",
    "\\end{equation}\n",
    "        \n",
    "Where the denominator is the normalization constant to make the sum of the weights 1. \n",
    "\n",
    "If a misclassified case is from a positive weighted classifier, the “exp” term in the numerator would be always larger than 1. \n",
    "\n",
    "**NOTE THAT A WEAK CLASSIFIER WITH A NEGATIVE WEIGHT STILL CONTRIBUTES**\n",
    "(you can be wrong, but if you are wrong consistently, then you are still useful)"
   ]
  },
  {
   "cell_type": "markdown",
   "metadata": {
    "slideshow": {
     "slide_type": "subslide"
    }
   },
   "source": [
    "You can view this as just iteratively minimizing the exponential loss function\n",
    "\n",
    "\\begin{equation}\n",
    "\\huge\n",
    "L(y, F(x))=E\\left(e^{-y F(x)}\\right)\n",
    "\\end{equation}\n",
    "\n",
    "where $E$ is just weighted expectation value.\n",
    "\n",
    "[I'll spare you the math](https://towardsdatascience.com/boosting-algorithm-adaboost-b6737a9ee60c)"
   ]
  },
  {
   "cell_type": "markdown",
   "metadata": {
    "slideshow": {
     "slide_type": "subslide"
    }
   },
   "source": [
    "- At the end of this procedure we allow the classifiers a weighted vote on the final classification\n",
    "\n",
    "\\begin{equation}\n",
    "\\huge\n",
    "H(x)=\\operatorname{sign}\\left(\\sum_{t=1}^{T} \\theta_{t} h_{t}(x)\\right)\n",
    "\\end{equation}\n",
    "\n",
    "    \n",
    "The most popular form of boosting is that of adaptive boosting (helpfully implemented in a package called **AdaBoost**)\n",
    "\n",
    "A fundamental limitation of the boosted decision tree is the computation time for large data sets (they rely on a chain of classifiers)."
   ]
  },
  {
   "cell_type": "markdown",
   "metadata": {
    "slideshow": {
     "slide_type": "slide"
    }
   },
   "source": [
    "Two common ensemble methods that use decision trees:\n",
    "\n",
    "1. Random Forests\n",
    "    - Trees run in parallel, independent of each other\n",
    "    - Each tree uses a random subset of the observations and features (**bagging**)\n",
    "        - the number of features selected per split level is typically limited to the square root of the total number of features\n",
    "    - Class predicted by majority vote - what class do most trees think an observation belongs to or average in the case of regression\n",
    "\n",
    "\n",
    "\n",
    "2. Gradient Boosted Trees\n",
    "    - Trees run in series \n",
    "    - Each tree uses different weights for the features, updating the weights from the previous tree\n",
    "    - The last tree makes the prediction"
   ]
  },
  {
   "cell_type": "markdown",
   "metadata": {},
   "source": [
    "# The textbook has a couple of examples of using Random Forests and BDTs for regression using SDSS galaxies with known redshifts (the target) and magnitudes as features - i.e. a photo-z estimator."
   ]
  },
  {
   "cell_type": "code",
   "execution_count": 10,
   "metadata": {},
   "outputs": [
    {
     "name": "stderr",
     "output_type": "stream",
     "text": [
      "WARNING: AstroMLDeprecationWarning: 'decorators' has been moved to 'astroML.utils' and will be removed from the main namespace in the future. [astroML.decorators]\n"
     ]
    },
    {
     "name": "stdout",
     "output_type": "stream",
     "text": [
      "@pickle_results: using precomputed results from 'photoz_forest.pkl'\n"
     ]
    },
    {
     "data": {
      "image/png": "[encoded data removed]",
      "text/plain": [
       "<Figure size 576x288 with 2 Axes>"
      ]
     },
     "metadata": {
      "image/png": {
       "height": 270,
       "width": 554
      },
      "needs_background": "light"
     },
     "output_type": "display_data"
    }
   ],
   "source": [
    "import numpy as np\n",
    "from matplotlib import pyplot as plt\n",
    "\n",
    "from sklearn.ensemble import RandomForestRegressor\n",
    "from astroML.datasets import fetch_sdss_specgals\n",
    "from astroML.decorators import pickle_results\n",
    "\n",
    "#------------------------------------------------------------\n",
    "# Fetch and prepare the data\n",
    "data = fetch_sdss_specgals()\n",
    "\n",
    "# put magnitudes in a matrix\n",
    "mag = np.vstack([data['modelMag_%s' % f] for f in 'ugriz']).T\n",
    "z = data['z']\n",
    "\n",
    "# train on ~60,000 points\n",
    "mag_train = mag[::10]\n",
    "z_train = z[::10]\n",
    "\n",
    "# test on ~6,000 distinct points\n",
    "mag_test = mag[1::100]\n",
    "z_test = z[1::100]\n",
    "\n",
    "\n",
    "#------------------------------------------------------------\n",
    "# Compute the results\n",
    "#  This is a long computation, so we'll save the results to a pickle.\n",
    "@pickle_results('photoz_forest.pkl')\n",
    "def compute_photoz_forest(depth):\n",
    "    rms_test = np.zeros(len(depth))\n",
    "    rms_train = np.zeros(len(depth))\n",
    "    i_best = 0\n",
    "    z_fit_best = None\n",
    "\n",
    "    for i, d in enumerate(depth):\n",
    "        clf = RandomForestRegressor(n_estimators=10,max_features=3,\n",
    "                                    max_depth=d, random_state=0)\n",
    "        clf.fit(mag_train, z_train)\n",
    "\n",
    "        z_fit_train = clf.predict(mag_train)\n",
    "        z_fit = clf.predict(mag_test)\n",
    "        rms_train[i] = np.mean(np.sqrt((z_fit_train - z_train) ** 2))\n",
    "        rms_test[i] = np.mean(np.sqrt((z_fit - z_test) ** 2))\n",
    "\n",
    "        if rms_test[i] <= rms_test[i_best]:\n",
    "            i_best = i\n",
    "            z_fit_best = z_fit\n",
    "\n",
    "    return rms_test, rms_train, i_best, z_fit_best\n",
    "\n",
    "\n",
    "depth = np.arange(1, 20)\n",
    "rms_test, rms_train, i_best, z_fit_best = compute_photoz_forest(depth)\n",
    "best_depth = depth[i_best]\n",
    "\n",
    "#------------------------------------------------------------\n",
    "# Plot the results\n",
    "fig = plt.figure(figsize=(8, 4))\n",
    "fig.subplots_adjust(wspace=0.25,\n",
    "                    left=0.1, right=0.95,\n",
    "                    bottom=0.15, top=0.9)\n",
    "\n",
    "# left panel: plot cross-validation results\n",
    "ax = fig.add_subplot(121)\n",
    "ax.plot(depth, rms_test, '-k', label='cross-validation')\n",
    "ax.plot(depth, rms_train, '--k', label='training set')\n",
    "ax.legend(loc=1, prop=dict(size=13))\n",
    "\n",
    "ax.set_xlabel('depth of tree')\n",
    "ax.set_ylabel('rms error')\n",
    "\n",
    "ax.set_xlim(0, 21)\n",
    "ax.set_ylim(0.009,  0.04)\n",
    "ax.yaxis.set_major_locator(plt.MultipleLocator(0.01))\n",
    "\n",
    "# right panel: plot best fit\n",
    "ax = fig.add_subplot(122)\n",
    "ax.scatter(z_test, z_fit_best, s=1, lw=0, c='k')\n",
    "ax.plot([-0.1, 0.4], [-0.1, 0.4], ':k')\n",
    "ax.text(0.03, 0.97, \"depth = %i\\nrms = %.3f\" % (best_depth, rms_test[i_best]),\n",
    "        ha='left', va='top', transform=ax.transAxes)\n",
    "\n",
    "ax.set_xlabel(r'$\\rm z_{true}$', fontsize=16)\n",
    "ax.set_ylabel(r'$\\rm z_{fit}$', fontsize=16)\n",
    "\n",
    "ax.set_xlim(-0.02, 0.4001)\n",
    "ax.set_ylim(-0.02, 0.4001)\n",
    "ax.xaxis.set_major_locator(plt.MultipleLocator(0.1))\n",
    "ax.yaxis.set_major_locator(plt.MultipleLocator(0.1))\n",
    "\n",
    "plt.show()"
   ]
  },
  {
   "cell_type": "code",
   "execution_count": 11,
   "metadata": {
    "slideshow": {
     "slide_type": "slide"
    }
   },
   "outputs": [
    {
     "name": "stdout",
     "output_type": "stream",
     "text": [
      "@pickle_results: using precomputed results from 'photoz_boosting.pkl'\n"
     ]
    },
    {
     "data": {
      "image/png": "[encoded data removed]",
      "text/plain": [
       "<Figure size 576x288 with 2 Axes>"
      ]
     },
     "metadata": {
      "image/png": {
       "height": 270,
       "width": 554
      },
      "needs_background": "light"
     },
     "output_type": "display_data"
    }
   ],
   "source": [
    "import numpy as np\n",
    "from matplotlib import pyplot as plt\n",
    "\n",
    "from sklearn.ensemble import GradientBoostingRegressor\n",
    "from astroML.datasets import fetch_sdss_specgals\n",
    "from astroML.decorators import pickle_results\n",
    "\n",
    "#------------------------------------------------------------\n",
    "# Fetch and prepare the data\n",
    "data = fetch_sdss_specgals()\n",
    "\n",
    "# put magnitudes in a matrix\n",
    "mag = np.vstack([data['modelMag_%s' % f] for f in 'ugriz']).T\n",
    "z = data['z']\n",
    "\n",
    "# train on ~60,000 points\n",
    "mag_train = mag[::10]\n",
    "z_train = z[::10]\n",
    "\n",
    "# test on ~6,000 distinct points\n",
    "mag_test = mag[1::100]\n",
    "z_test = z[1::100]\n",
    "\n",
    "\n",
    "#------------------------------------------------------------\n",
    "# Compute the results\n",
    "#  This is a long computation, so we'll save the results to a pickle.\n",
    "@pickle_results('photoz_boosting.pkl')\n",
    "def compute_photoz_forest(N_boosts):\n",
    "    rms_test = np.zeros(len(N_boosts))\n",
    "    rms_train = np.zeros(len(N_boosts))\n",
    "    i_best = 0\n",
    "    z_fit_best = None\n",
    "\n",
    "    for i, Nb in enumerate(N_boosts):\n",
    "        clf = GradientBoostingRegressor(n_estimators=Nb, learning_rate=0.1,\n",
    "                                        max_depth=3, random_state=0)\n",
    "        clf.fit(mag_train, z_train)\n",
    "\n",
    "        z_fit_train = clf.predict(mag_train)\n",
    "        z_fit = clf.predict(mag_test)\n",
    "        rms_train[i] = np.mean(np.sqrt((z_fit_train - z_train) ** 2))\n",
    "        rms_test[i] = np.mean(np.sqrt((z_fit - z_test) ** 2))\n",
    "\n",
    "        if rms_test[i] <= rms_test[i_best]:\n",
    "            i_best = i\n",
    "            z_fit_best = z_fit\n",
    "\n",
    "    return rms_test, rms_train, i_best, z_fit_best\n",
    "\n",
    "N_boosts = (10, 100, 200, 300, 400, 500)\n",
    "rms_test, rms_train, i_best, z_fit_best = compute_photoz_forest(N_boosts)\n",
    "best_N = N_boosts[i_best]\n",
    "\n",
    "#------------------------------------------------------------\n",
    "# Plot the results\n",
    "fig = plt.figure(figsize=(8, 4))\n",
    "fig.subplots_adjust(wspace=0.25,\n",
    "                    left=0.1, right=0.95,\n",
    "                    bottom=0.15, top=0.9)\n",
    "\n",
    "# left panel: plot cross-validation results\n",
    "ax = fig.add_subplot(121)\n",
    "ax.plot(N_boosts, rms_test, '-k', label='cross-validation')\n",
    "ax.plot(N_boosts, rms_train, '--k', label='training set')\n",
    "ax.legend(loc=1, prop=dict(size=13))\n",
    "\n",
    "ax.set_xlabel('number of boosts')\n",
    "ax.set_ylabel('rms error')\n",
    "ax.set_xlim(0, 510)\n",
    "ax.set_ylim(0.009,  0.032)\n",
    "ax.yaxis.set_major_locator(plt.MultipleLocator(0.01))\n",
    "\n",
    "ax.text(0.03, 0.03, \"Tree depth: 3\",\n",
    "        ha='left', va='bottom', transform=ax.transAxes)\n",
    "\n",
    "# right panel: plot best fit\n",
    "ax = fig.add_subplot(122)\n",
    "ax.scatter(z_test, z_fit_best, s=1, lw=0, c='k')\n",
    "ax.plot([-0.1, 0.4], [-0.1, 0.4], ':k')\n",
    "ax.text(0.03, 0.97, \"N = %i\\nrms = %.3f\" % (best_N, rms_test[i_best]),\n",
    "        ha='left', va='top', transform=ax.transAxes)\n",
    "\n",
    "ax.set_xlabel(r'$\\rm z_{true}$', fontsize=16)\n",
    "ax.set_ylabel(r'$\\rm z_{fit}$', fontsize=16)\n",
    "\n",
    "ax.set_xlim(-0.02, 0.4001)\n",
    "ax.set_ylim(-0.02, 0.4001)\n",
    "ax.xaxis.set_major_locator(plt.MultipleLocator(0.1))\n",
    "ax.yaxis.set_major_locator(plt.MultipleLocator(0.1))\n",
    "\n",
    "plt.show()"
   ]
  }
 ],
 "metadata": {
  "anaconda-cloud": {},
  "celltoolbar": "Slideshow",
  "kernelspec": {
   "display_name": "Python [conda env:fds] *",
   "language": "python",
   "name": "conda-env-fds-py"
  },
  "language_info": {
   "codemirror_mode": {
    "name": "ipython",
    "version": 3
   },
   "file_extension": ".py",
   "mimetype": "text/x-python",
   "name": "python",
   "nbconvert_exporter": "python",
   "pygments_lexer": "ipython3",
   "version": "3.7.6"
  },
  "livereveal": {
   "scroll": true,
   "start_slideshow_at": "selected"
  }
 },
 "nbformat": 4,
 "nbformat_minor": 1
}
